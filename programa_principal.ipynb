{
 "cells": [
  {
   "cell_type": "code",
   "execution_count": 73,
   "id": "80d486af-c1e0-4cff-bb5d-791957739a60",
   "metadata": {
    "scrolled": true
   },
   "outputs": [],
   "source": [
    "import __init__\n",
    "from importlib import reload\n",
    "reload(__init__)\n",
    "names = \"\"\" Agustin, Yanina, Andrés, Ariadna, Bautista, CAROLINA,\n",
    "CESAR, David, Diego, Dolores, DYLAN, ELIANA, Emanuel, Fabián, Noelia,\n",
    "Francsica', FEDERICO, Fernanda, GONZALO, Nancy \"\"\"\n",
    "goals = [0, 10, 4, 0, 5, 14, 0, 0, 7, 2, 1, 1, 1, 5, 6, 1, 1, 2, 0,\n",
    "11]\n",
    "goals_avoided = [0, 2, 0, 0, 5, 2, 0, 0, 1, 2, 0, 5, 5, 0, 1, 0, 2,\n",
    "3, 0, 0]\n",
    "assists = [0, 5, 1, 0, 5, 2, 0, 0, 1, 2, 1, 5, 5, 0, 1, 0, 2, 3, 1,\n",
    "0]\n"
   ]
  },
  {
   "cell_type": "code",
   "execution_count": 74,
   "id": "87ef59ff-8bbb-4134-8870-16e6fd350a7a",
   "metadata": {},
   "outputs": [],
   "source": [
    "#punto 1\n",
    "\n",
    "player_stats= __init__.generar_estructura(names,goals,goals_avoided,assists)\n"
   ]
  },
  {
   "cell_type": "code",
   "execution_count": 77,
   "id": "7085549f-36b3-4888-bc5d-39bd0e764752",
   "metadata": {
    "scrolled": true
   },
   "outputs": [
    {
     "name": "stdout",
     "output_type": "stream",
     "text": [
      "{'Agustin': (0, 0, 0), 'Yanina': (10, 2, 5), 'Andrés': (4, 0, 1), 'Ariadna': (0, 0, 0), 'Bautista': (5, 5, 5), 'CAROLINA': (14, 2, 2), 'CESAR': (0, 0, 0), 'David': (0, 0, 0), 'Diego': (7, 1, 1), 'Dolores': (2, 2, 2), 'DYLAN': (1, 0, 1), 'ELIANA': (1, 5, 5), 'Emanuel': (1, 5, 5), 'Fabián': (5, 0, 0), 'Noelia': (6, 1, 1), \"Francsica'\": (1, 0, 0), 'FEDERICO': (1, 2, 2), 'Fernanda': (2, 3, 3), 'GONZALO': (0, 0, 1), 'Nancy': (11, 0, 0)}\n"
     ]
    }
   ],
   "source": [
    "print(player_stats)"
   ]
  },
  {
   "cell_type": "code",
   "execution_count": 78,
   "id": "02ecb77c-54ae-4838-ab8d-7745d5cce9e1",
   "metadata": {},
   "outputs": [
    {
     "name": "stdout",
     "output_type": "stream",
     "text": [
      "El nombre del mayor goleador/a es: CAROLINA, con 14 goles\n"
     ]
    }
   ],
   "source": [
    "#2)Conocer el nombre y la cantidad de goles del goleador o goleadora\n",
    "def get_max_goal_scorer(player_stats):\n",
    "    '''Retorna una tupla con el nombre y la cantidad de goles\n",
    "    del jugador que mas goles metio\n",
    "    '''\n",
    "    max_goals =-1\n",
    "    \n",
    "    max_goal_scorer = str()\n",
    "    \n",
    "    \n",
    "    for player, stats in player_stats.items():\n",
    "        if stats[0] > max_goals:\n",
    "            max_goals= stats[0]\n",
    "            max_goal_scorer= player\n",
    "    return(max_goal_scorer,max_goals)\n",
    "\n",
    "goleador = get_max_goal_scorer(player_stats)\n",
    "print('El nombre del mayor goleador/a es: '+tuple(goleador)[0]+', con '+str(goleador[1])+' goles')\n"
   ]
  },
  {
   "cell_type": "code",
   "execution_count": 79,
   "id": "694cdfc0-3cfa-4667-a0b9-c9463d7626eb",
   "metadata": {},
   "outputs": [
    {
     "name": "stdout",
     "output_type": "stream",
     "text": [
      "El nombre del jugador mas influyente es: CAROLINA, con 16.5 de influencia.\n"
     ]
    }
   ],
   "source": [
    "# 3) Conocer el nombre del jugador o jugadora más influyente\n",
    "\n",
    "def get_most_influential_player(player_stats):\n",
    "    '''Retorna una tupla con el nombre y la influencia\n",
    "    del jugador mas influencial\n",
    "    '''\n",
    "    goals_in_favor= float()\n",
    "    avoided_goals=float()\n",
    "    assists=int()\n",
    "    \n",
    "    most_influential_value= -1\n",
    "    most_influential_player= str()\n",
    "    \n",
    "    for player, stats in player_stats.items():\n",
    "        current_influential_value =float(stats[0]*1.5 + stats[1]*1.25 + stats[2]) \n",
    "        if current_influential_value> most_influential_value:\n",
    "            most_influential_value= current_influential_value\n",
    "            most_influential_player= player\n",
    "\n",
    "    return(most_influential_player,current_influential_value)\n",
    "\n",
    "most_influential = get_most_influential_player(player_stats)\n",
    "print('El nombre del jugador mas influyente es: '+tuple(most_influential)[0]+', con '+str(most_influential[1])+' de influencia.')\n",
    "\n"
   ]
  },
  {
   "cell_type": "code",
   "execution_count": 80,
   "id": "3670681e-3df2-4a2d-9e41-ad49ab464486",
   "metadata": {},
   "outputs": [
    {
     "name": "stdout",
     "output_type": "stream",
     "text": [
      "el promedio de goles por partido del equipo en general es de: 2.84\n"
     ]
    }
   ],
   "source": [
    "\n",
    "#4) conocer el promedio de goles por partido del equipo en general. Dato: Se jugaron\n",
    "#25 partidos en la temporada.\n",
    "\n",
    "def get_average_goals(player_stats,matches):\n",
    "    '''retorna el promedio de goles del equipo\n",
    "    '''\n",
    "    total_goals =int(0)\n",
    "    \n",
    "    for player, stats in player_stats.items():\n",
    "        total_goals= total_goals + stats[0]\n",
    "    \n",
    "    average_goals= total_goals / matches\n",
    "\n",
    "    return(average_goals)\n",
    "\n",
    "print('el promedio de goles por partido del equipo en general es de: '+str(get_average_goals(player_stats,25)))"
   ]
  },
  {
   "cell_type": "code",
   "execution_count": 81,
   "id": "0835e1f9-82fc-448c-b749-72c44af27571",
   "metadata": {},
   "outputs": [
    {
     "name": "stdout",
     "output_type": "stream",
     "text": [
      "el promedio de goles por partido del goleador/a CAROLINA, con un promedio de: 0.56\n"
     ]
    }
   ],
   "source": [
    "\n",
    "#5)Conocer el promedio de goles por partido del goleador o goleadora. Dato: Se\n",
    "#jugaron 25 partidos en la temporada.\n",
    "\n",
    "def get_average_goals_of_max_scorer(player_stats,matches):\n",
    "    '''retorna una tupla con el nombre y la el promedio de goles \n",
    "    del jugador mas goleador\n",
    "    '''\n",
    "    max_goal_scorer= get_max_goal_scorer(player_stats)\n",
    "    return(max_goal_scorer[0],max_goal_scorer[1]/matches)\n",
    "\n",
    "print('el promedio de goles por partido del goleador/a '+str(get_average_goals_of_max_scorer(player_stats,25)[0])+', con un promedio de: '+str(get_average_goals_of_max_scorer(player_stats,25)[1]))\n",
    "    "
   ]
  },
  {
   "cell_type": "code",
   "execution_count": null,
   "id": "996efc95-09f0-4c0b-8267-c13417147320",
   "metadata": {},
   "outputs": [],
   "source": []
  }
 ],
 "metadata": {
  "kernelspec": {
   "display_name": "Python 3 (ipykernel)",
   "language": "python",
   "name": "python3"
  },
  "language_info": {
   "codemirror_mode": {
    "name": "ipython",
    "version": 3
   },
   "file_extension": ".py",
   "mimetype": "text/x-python",
   "name": "python",
   "nbconvert_exporter": "python",
   "pygments_lexer": "ipython3",
   "version": "3.11.7"
  }
 },
 "nbformat": 4,
 "nbformat_minor": 5
}
